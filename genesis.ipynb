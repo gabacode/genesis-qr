{
 "cells": [
  {
   "cell_type": "code",
   "execution_count": null,
   "id": "bc668139",
   "metadata": {},
   "outputs": [],
   "source": []
  },
  {
   "cell_type": "code",
   "execution_count": null,
   "id": "80f2766d",
   "metadata": {},
   "outputs": [],
   "source": [
    "import qrcode\n",
    "\n",
    "qr = qrcode.QRCode(version=None,error_correction=qrcode.constants.ERROR_CORRECT_H,box_size=10,border=4)\n",
    "\n",
    "with open('./files/lorem.txt', 'r') as f:\n",
    "    for index, char in enumerate(f.read()):\n",
    "        print(char , end =\"\" )\n",
    "        qr.add_data(char)\n",
    "        #qr.make(fit=True)\n",
    "        img = qr.make_image(fill_color=\"black\", back_color=\"white\").convert('RGB')\n",
    "        img.save(\"./files/images/\"+str(index)+\".png\")\n",
    "f.close()\n",
    "\n",
    "print(\"FATTO\")"
   ]
  },
  {
   "cell_type": "code",
   "execution_count": null,
   "id": "a1d8ad61",
   "metadata": {},
   "outputs": [],
   "source": [
    "from PIL import Image\n",
    "import glob\n",
    "import os\n",
    "\n",
    "def get_key(fp):\n",
    "    filename = os.path.splitext(os.path.basename(fp))[0]\n",
    "    int_part = filename.split()[0]\n",
    "    return int(int_part)\n",
    "\n",
    "frames = []\n",
    "imgs = sorted(glob.glob(\"./files/images/*.png\"), key=get_key)\n",
    "\n",
    "for i in imgs:\n",
    "    new_frame = Image.open(i)\n",
    "    res_frame = new_frame.resize((512, 512))\n",
    "    frames.append(res_frame)\n",
    " \n",
    "frames[0].save('./files/png_to_gif.gif', format='GIF',\n",
    "               append_images=frames[1:],\n",
    "               save_all=True,\n",
    "               duration=50, loop=0)"
   ]
  }
 ],
 "metadata": {
  "kernelspec": {
   "display_name": "Python 3 (ipykernel)",
   "language": "python",
   "name": "python3"
  },
  "language_info": {
   "codemirror_mode": {
    "name": "ipython",
    "version": 3
   },
   "file_extension": ".py",
   "mimetype": "text/x-python",
   "name": "python",
   "nbconvert_exporter": "python",
   "pygments_lexer": "ipython3",
   "version": "3.8.10"
  }
 },
 "nbformat": 4,
 "nbformat_minor": 5
}
